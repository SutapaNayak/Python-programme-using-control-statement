{
  "nbformat": 4,
  "nbformat_minor": 0,
  "metadata": {
    "colab": {
      "name": "python program using control statement.ipynb",
      "provenance": [],
      "collapsed_sections": [],
      "authorship_tag": "ABX9TyOpcfxuSzU6cTrT9ljo4BrQ",
      "include_colab_link": true
    },
    "kernelspec": {
      "name": "python3",
      "display_name": "Python 3"
    },
    "language_info": {
      "name": "python"
    }
  },
  "cells": [
    {
      "cell_type": "markdown",
      "metadata": {
        "id": "view-in-github",
        "colab_type": "text"
      },
      "source": [
        "<a href=\"https://colab.research.google.com/github/SutapaNayak/Python-programme-using-control-statement/blob/main/python_program_using_control_statement.ipynb\" target=\"_parent\"><img src=\"https://colab.research.google.com/assets/colab-badge.svg\" alt=\"Open In Colab\"/></a>"
      ]
    },
    {
      "cell_type": "markdown",
      "metadata": {
        "id": "kgRvIG9k4w_s"
      },
      "source": [
        "1. We are having 3 list like this\n",
        "\n",
        "Colors = [“Yellow”,”Green”,”White”,”Black”]\n",
        "\n",
        "Fruits=[“Apple”,”Papaya”,”Mango”,”Orange”]\n",
        "\n",
        "Animals=[“Tiger”,”Lion”,”Deer”,”Zebra”]\n"
      ]
    },
    {
      "cell_type": "markdown",
      "metadata": {
        "id": "0mX1YnAi462s"
      },
      "source": [
        "A. Write a program that asks user to enter a Color/Fruit/Animal name and it should tell which category belongs to , like its is a fruit or color or Animal"
      ]
    },
    {
      "cell_type": "code",
      "metadata": {
        "colab": {
          "base_uri": "https://localhost:8080/"
        },
        "id": "6bSVCnmu5HN8",
        "outputId": "fa28402e-5378-4cb2-d27e-eef9fcf97b33"
      },
      "source": [
        "Colors = ['Yellow','Green','White','Black']\n",
        "Fruits=['Apple','Papaya','Mango','Orange']\n",
        "Animals=['Tiger','Lion','Deer','Zebra']\n",
        "name=input(\"Enter a name \")\n",
        "if name in Colors:\n",
        " print(\"this belongs to Colors category\")\n",
        "elif name in Fruits:\n",
        " print(\"this belongs to Fruits category\")\n",
        "elif name in Animals:\n",
        " print(\"this belongs to Animals category\")\n",
        "else:\n",
        " print(\"this belongs to no category\")"
      ],
      "execution_count": 1,
      "outputs": [
        {
          "output_type": "stream",
          "text": [
            "Enter a name Black\n",
            "this belongs to Colors category\n"
          ],
          "name": "stdout"
        }
      ]
    },
    {
      "cell_type": "markdown",
      "metadata": {
        "id": "Nyjucnlr5Rzl"
      },
      "source": [
        "1b. Write a program that asks user to enter two cities and it tells you if they both are in same country or not"
      ]
    },
    {
      "cell_type": "code",
      "metadata": {
        "colab": {
          "base_uri": "https://localhost:8080/"
        },
        "id": "QEQwBi2S5Vy0",
        "outputId": "cd9dd70f-ab3d-4c7d-a9f5-c3271a249ff4"
      },
      "source": [
        "India = ['Kolkata','Delhi','Mumbai','Pune']\n",
        "Canada=['Toronto','Ontario','Alberta','Vancouver']\n",
        "America=['California','Chicago','Texas','New York']\n",
        "City1=input(\"Enter the 1st city name\")\n",
        "City2=input(\"Enter the 2nd city name\")\n",
        "if City1 in India and City2 in India:\n",
        "    print(\"They both are in same country\")\n",
        "elif City1 in Canada and City2 in Canada:\n",
        "    print(\"They both are in same country\")\n",
        "elif City1 in America and City2 in America:\n",
        "    print(\"They both are in same country\")\n",
        "else:\n",
        "    print(\"They are not in same country\")"
      ],
      "execution_count": 3,
      "outputs": [
        {
          "output_type": "stream",
          "text": [
            "Enter the 1st city nameKolkata\n",
            "Enter the 2nd city nameCalifornia\n",
            "They are not in same country\n"
          ],
          "name": "stdout"
        }
      ]
    },
    {
      "cell_type": "markdown",
      "metadata": {
        "id": "c3YuikYy55Xk"
      },
      "source": [
        "'2.  Write a python program that can tell you if your grade score good or not . Good Score range is 40 to 60.\n",
        "\n",
        "  i. Ask user to enter his score.\n",
        "\n",
        "  ii. If it is below 40 to 60 range then print that score is low\n",
        "\n",
        "  iii. If it is above 60 then print that it is good otherwise print that it is normal"
      ]
    },
    {
      "cell_type": "code",
      "metadata": {
        "colab": {
          "base_uri": "https://localhost:8080/"
        },
        "id": "bVz8wDwM5-I1",
        "outputId": "dfaa0174-86cb-49dd-8b27-bec7a7a6f912"
      },
      "source": [
        "score=int(input(\"Enter score\"))\n",
        "if score>40 and score<60:\n",
        " print(\"Score is low\")\n",
        "elif score>60:\n",
        " print(\"Score is good\")\n",
        "else:\n",
        " print(\"Score is normal\")"
      ],
      "execution_count": 4,
      "outputs": [
        {
          "output_type": "stream",
          "text": [
            "Enter score75\n",
            "Score is good\n"
          ],
          "name": "stdout"
        }
      ]
    },
    {
      "cell_type": "markdown",
      "metadata": {
        "id": "RvK26Qe26CNr"
      },
      "source": [
        "3. After appearing in exam 10 times you got this result,\n",
        "\n",
        "result = [\"Pass\",\"Fail\",\"Fail\",\"Pass\",\"Fail\",\"Pass\",\"Pass\",\"Fail\",\"Fail\",\"Fail\"]\n",
        "\n",
        "Using for loop figure out how many times you got Pass"
      ]
    },
    {
      "cell_type": "code",
      "metadata": {
        "colab": {
          "base_uri": "https://localhost:8080/"
        },
        "id": "7xEIb-SS6GNT",
        "outputId": "98bd3e08-a69e-4319-fd61-8c7dae471dbc"
      },
      "source": [
        "result = [\"Pass\",\"Fail\",\"Fail\",\"Pass\",\"Fail\",\"Pass\",\"Pass\",\"Fail\",\"Fail\",\"Fail\"]\n",
        "count=0\n",
        "for s in result:\n",
        " if s==\"Pass\":\n",
        "   count+=1\n",
        "print(count)"
      ],
      "execution_count": 5,
      "outputs": [
        {
          "output_type": "stream",
          "text": [
            "4\n"
          ],
          "name": "stdout"
        }
      ]
    },
    {
      "cell_type": "code",
      "metadata": {
        "colab": {
          "base_uri": "https://localhost:8080/"
        },
        "id": "Sns02viS6R5d",
        "outputId": "37ea857e-39c7-4c24-e0d1-67d5576e52dd"
      },
      "source": [
        "r=int(input(\"enter the no of rows\"))\n",
        "for i in range (0,r):\n",
        "  for j in range(0,i+1):\n",
        "    print(\"*\",end=\"\")\n",
        "  print()\n",
        "for i in range (r+1,0,-1):\n",
        "  for j in range(0,i-1):\n",
        "      print(\"*\",end=\"\")\n",
        "  print()"
      ],
      "execution_count": 6,
      "outputs": [
        {
          "output_type": "stream",
          "text": [
            "enter the no of rows5\n",
            "*\n",
            "**\n",
            "***\n",
            "****\n",
            "*****\n",
            "*****\n",
            "****\n",
            "***\n",
            "**\n",
            "*\n",
            "\n"
          ],
          "name": "stdout"
        }
      ]
    },
    {
      "cell_type": "markdown",
      "metadata": {
        "id": "sAOQ0J796Uod"
      },
      "source": [
        "5.   Lets say you are running a 50 km race. Write a program that,\n",
        "\n",
        "Upon completing each 10 km asks you \"are you tired?\"\n",
        "If you reply \"yes\" then it should break and print \"you didn't finish the race\"\n",
        " If you reply \"no\" then it should continue and ask \"are you tired\" on every km\n",
        "If you finish all 50 km then it should print congratulations message"
      ]
    },
    {
      "cell_type": "code",
      "metadata": {
        "colab": {
          "base_uri": "https://localhost:8080/"
        },
        "id": "B-c0eGWp6YV-",
        "outputId": "bd7bd0ec-3aee-42c3-a2a2-2b8c933ebfb5"
      },
      "source": [
        "for km in range(1,51):\n",
        " if km<50 and km%10==0:\n",
        "  print(\" are you tired?\")\n",
        "  reply=input(\"Enter yes or no:\")\n",
        "  if reply=='yes':\n",
        "   print(\"you didn't finish the race\")\n",
        "   break\n",
        "  else:\n",
        "   reply=='no'\n",
        "   continue\n",
        "if km==50:\n",
        "    print(\"Congratulations\")"
      ],
      "execution_count": 7,
      "outputs": [
        {
          "output_type": "stream",
          "text": [
            " are you tired?\n",
            "Enter yes or no:no\n",
            " are you tired?\n",
            "Enter yes or no:no\n",
            " are you tired?\n",
            "Enter yes or no:no\n",
            " are you tired?\n",
            "Enter yes or no:no\n",
            "Congratulations\n"
          ],
          "name": "stdout"
        }
      ]
    },
    {
      "cell_type": "markdown",
      "metadata": {
        "id": "0WjqIpd06eyk"
      },
      "source": [
        "6.  Write a Python program to find those numbers which are divisible by 7 and multiple of 5, between 1500 and 2700 (both included)"
      ]
    },
    {
      "cell_type": "code",
      "metadata": {
        "colab": {
          "base_uri": "https://localhost:8080/"
        },
        "id": "gPpCHTkW6iOs",
        "outputId": "7d9e259d-befc-4a2a-8814-2de8276e7efb"
      },
      "source": [
        "for n in range(1500,2700):\n",
        " if n%7==0 and n%5==0:\n",
        "  print(n)"
      ],
      "execution_count": 8,
      "outputs": [
        {
          "output_type": "stream",
          "text": [
            "1505\n",
            "1540\n",
            "1575\n",
            "1610\n",
            "1645\n",
            "1680\n",
            "1715\n",
            "1750\n",
            "1785\n",
            "1820\n",
            "1855\n",
            "1890\n",
            "1925\n",
            "1960\n",
            "1995\n",
            "2030\n",
            "2065\n",
            "2100\n",
            "2135\n",
            "2170\n",
            "2205\n",
            "2240\n",
            "2275\n",
            "2310\n",
            "2345\n",
            "2380\n",
            "2415\n",
            "2450\n",
            "2485\n",
            "2520\n",
            "2555\n",
            "2590\n",
            "2625\n",
            "2660\n",
            "2695\n"
          ],
          "name": "stdout"
        }
      ]
    },
    {
      "cell_type": "markdown",
      "metadata": {
        "id": "8JrTjyUZ6kct"
      },
      "source": [
        "7.Print square of all numbers between 10 to 20 except even numbers"
      ]
    },
    {
      "cell_type": "code",
      "metadata": {
        "colab": {
          "base_uri": "https://localhost:8080/"
        },
        "id": "ZiuObJ-i6oCv",
        "outputId": "41788387-2f32-4b0f-8c54-43dda14f0171"
      },
      "source": [
        "for n in range(10,20):\n",
        "    if n%2==1:\n",
        "     square=n*n\n",
        "     print(\"square of odd no:\",square)"
      ],
      "execution_count": 9,
      "outputs": [
        {
          "output_type": "stream",
          "text": [
            "square of odd no: 121\n",
            "square of odd no: 169\n",
            "square of odd no: 225\n",
            "square of odd no: 289\n",
            "square of odd no: 361\n"
          ],
          "name": "stdout"
        }
      ]
    },
    {
      "cell_type": "markdown",
      "metadata": {
        "id": "WFiyBhjY6q51"
      },
      "source": [
        "'''8.  Your Marks for five Test(test1 to test5) looks like this,\n",
        "\n",
        "marks_list = [65, 75, 2100, 95, 83]\n",
        "\n",
        "Write a program that asks you to enter marks and program should tell you in which test that marks occurred. If marks is not found then it should print that as well'''"
      ]
    },
    {
      "cell_type": "code",
      "metadata": {
        "colab": {
          "base_uri": "https://localhost:8080/"
        },
        "id": "yWGuoE-96sxG",
        "outputId": "9e41f1b4-f4aa-42d8-b106-331eb59e5d92"
      },
      "source": [
        "marks_list = [65, 75, 2100, 95, 83]\n",
        "marks=int(input(\"Enter the marks\"))\n",
        "if marks==65:\n",
        "  print(\"marks occurs in test no 1\")\n",
        "elif marks==75:\n",
        "  print(\"marks occurs in test no 2\")\n",
        "elif marks==2100:\n",
        "  print(\"marks occurs in test no 3\")\n",
        "elif marks==95:\n",
        "  print(\"marks occurs in test no 4\")\n",
        "elif marks==83:\n",
        "  print(\"marks occurs in test no 5\")\n",
        "else:\n",
        "  print(\"marks is not found \")"
      ],
      "execution_count": 10,
      "outputs": [
        {
          "output_type": "stream",
          "text": [
            "Enter the marks2100\n",
            "marks occurs in test no 3\n"
          ],
          "name": "stdout"
        }
      ]
    }
  ]
}